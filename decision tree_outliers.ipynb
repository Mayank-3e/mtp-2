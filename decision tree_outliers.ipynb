{
 "cells": [
  {
   "cell_type": "code",
   "execution_count": null,
   "metadata": {},
   "outputs": [],
   "source": [
    "import numpy as np\n",
    "import pandas as pd\n",
    "from sklearn.metrics import r2_score,make_scorer\n",
    "from sklearn.preprocessing import StandardScaler\n",
    "from sklearn.model_selection import train_test_split,GridSearchCV\n",
    "from sklearn.tree import DecisionTreeRegressor\n",
    "from metrics import partsMetrics,allMetrics"
   ]
  },
  {
   "cell_type": "code",
   "execution_count": 2,
   "metadata": {},
   "outputs": [
    {
     "name": "stdout",
     "output_type": "stream",
     "text": [
      "Data shape: (519, 7)\n"
     ]
    }
   ],
   "source": [
    "df=pd.read_csv('processed_outliers.csv')\n",
    "print('Data shape:',df.shape)"
   ]
  },
  {
   "cell_type": "code",
   "execution_count": 3,
   "metadata": {},
   "outputs": [
    {
     "name": "stdout",
     "output_type": "stream",
     "text": [
      "(519, 6)\n",
      "(519,)\n"
     ]
    }
   ],
   "source": [
    "X=df.iloc[:,:-1].values\n",
    "y=df.iloc[:,-1].values\n",
    "print(X.shape)\n",
    "print(y.shape)"
   ]
  },
  {
   "cell_type": "code",
   "execution_count": 4,
   "metadata": {},
   "outputs": [],
   "source": [
    "param_grid={\n",
    "    'criterion': [\"squared_error\", \"friedman_mse\", \"absolute_error\", \"poisson\"],\n",
    "    'splitter': ['best','random'],\n",
    "    'ccp_alpha': np.logspace(-1,-3,3),\n",
    "    'max_depth': [None, 5, 6, 7, 8, 9, 10, 20, 40, 100, 200],\n",
    "    'min_samples_split': [2,5,10],\n",
    "    'min_samples_leaf': range(1,7),\n",
    "    'max_features': [None,1,2,3,4,'sqrt','log2']\n",
    "}\n",
    "\n",
    "X_train, X_test, y_train, y_test = train_test_split(X, y, test_size=0.1, random_state=0)\n",
    "sc = StandardScaler()\n",
    "X_train = sc.fit_transform(X_train)\n",
    "X_test = sc.transform(X_test)\n",
    "\n",
    "def train_model(X_train,y_train):\n",
    "    reg = DecisionTreeRegressor(random_state=0)\n",
    "    grid=GridSearchCV(reg,param_grid,cv=5,scoring=make_scorer(r2_score),n_jobs=2)\n",
    "    grid.fit(X_train, y_train)\n",
    "    print(grid.best_params_)\n",
    "    print(grid.best_score_)\n",
    "    return grid"
   ]
  },
  {
   "cell_type": "code",
   "execution_count": 5,
   "metadata": {},
   "outputs": [
    {
     "name": "stdout",
     "output_type": "stream",
     "text": [
      "{'ccp_alpha': 0.001, 'criterion': 'poisson', 'max_depth': None, 'max_features': 3, 'min_samples_leaf': 1, 'min_samples_split': 2, 'splitter': 'best'}\n",
      "0.8650891997942889\n"
     ]
    }
   ],
   "source": [
    "model=train_model(X_train,y_train)"
   ]
  },
  {
   "cell_type": "code",
   "execution_count": 5,
   "metadata": {},
   "outputs": [
    {
     "name": "stdout",
     "output_type": "stream",
     "text": [
      "train rmse: 1.0310980097009523\n",
      "val rmse: 5.3176495665415535\n",
      "test rmse: 3.8723740150672445\n",
      "\n",
      "train si: 0.08406811090295475\n",
      "val si: 0.43386777124807396\n",
      "test si: 0.27826082883092196\n",
      "\n",
      "train r2: 0.9928408443490184\n",
      "val r2: 0.8298071295059146\n",
      "test r2: 0.9268751482550959\n",
      "\n",
      "train mape: 0.7746528439634227\n",
      "val mape: 16.27749162102111\n",
      "test mape: 130.03466431138702\n"
     ]
    }
   ],
   "source": [
    "best_params={'ccp_alpha': 0.001, 'criterion': 'poisson', 'max_depth': None, 'max_features': 3, 'min_samples_leaf': 1, 'min_samples_split': 2, 'splitter': 'best'}\n",
    "reg=DecisionTreeRegressor(**best_params,random_state=0)\n",
    "partsMetrics(df,reg)"
   ]
  },
  {
   "cell_type": "code",
   "execution_count": 6,
   "metadata": {},
   "outputs": [
    {
     "name": "stdout",
     "output_type": "stream",
     "text": [
      "all rmse: 1.2481145154936937\n",
      "all si: 0.10042023440811672\n",
      "all r2: 0.9901163681374003\n",
      "all mape: 4.86431011121784\n"
     ]
    }
   ],
   "source": [
    "allMetrics(df,reg)"
   ]
  }
 ],
 "metadata": {
  "kernelspec": {
   "display_name": ".venv",
   "language": "python",
   "name": "python3"
  },
  "language_info": {
   "codemirror_mode": {
    "name": "ipython",
    "version": 3
   },
   "file_extension": ".py",
   "mimetype": "text/x-python",
   "name": "python",
   "nbconvert_exporter": "python",
   "pygments_lexer": "ipython3",
   "version": "3.11.0"
  },
  "orig_nbformat": 4
 },
 "nbformat": 4,
 "nbformat_minor": 2
}
