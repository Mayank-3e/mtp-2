{
 "cells": [
  {
   "cell_type": "code",
   "execution_count": null,
   "metadata": {},
   "outputs": [],
   "source": [
    "import pandas as pd\n",
    "from sklearn.metrics import r2_score,make_scorer\n",
    "from sklearn.preprocessing import StandardScaler\n",
    "from sklearn.model_selection import train_test_split,GridSearchCV\n",
    "from xgboost import XGBRegressor\n",
    "from metrics import partsMetrics,allMetrics"
   ]
  },
  {
   "cell_type": "code",
   "execution_count": 2,
   "metadata": {},
   "outputs": [
    {
     "name": "stdout",
     "output_type": "stream",
     "text": [
      "Data shape: (467, 7)\n"
     ]
    }
   ],
   "source": [
    "df=pd.read_csv('processed.csv')\n",
    "print('Data shape:',df.shape)"
   ]
  },
  {
   "cell_type": "code",
   "execution_count": 3,
   "metadata": {},
   "outputs": [
    {
     "name": "stdout",
     "output_type": "stream",
     "text": [
      "(467, 6)\n",
      "(467,)\n"
     ]
    }
   ],
   "source": [
    "X=df.iloc[:,:-1].values\n",
    "y=df.iloc[:,-1].values\n",
    "print(X.shape)\n",
    "print(y.shape)"
   ]
  },
  {
   "cell_type": "code",
   "execution_count": 4,
   "metadata": {},
   "outputs": [],
   "source": [
    "param_grid={\n",
    "    'n_estimators': [None,10,50,200,300],   #default=100\n",
    "    'max_depth': [None,2,6,10,20],\n",
    "    'max_leaves': [None,10,20],\n",
    "    'learning_rate': [None,.5,1],\n",
    "    'subsample': [None,.5,.8],\n",
    "    'reg_lambda': [None,.1,1,10,100],\n",
    "    # 'reg_alpha': [None,.01,.1,1],\n",
    "    'colsample_bytree': [None,.2,.5,.8],\n",
    "    'gamma': [None,.1,.5,1],\n",
    "    # 'min_child_weight': [None,.1,.5,1,2,4]    #default=1\n",
    "}\n",
    "\n",
    "X_train, X_test, y_train, y_test = train_test_split(X, y, test_size=0.1, random_state=0)\n",
    "sc = StandardScaler()\n",
    "X_train = sc.fit_transform(X_train)\n",
    "X_test = sc.transform(X_test)\n",
    "\n",
    "def train_model(X_train,y_train):\n",
    "    reg = XGBRegressor(random_state=0,n_jobs=2)\n",
    "    grid=GridSearchCV(reg,param_grid,cv=5,scoring=make_scorer(r2_score),n_jobs=2)\n",
    "    grid.fit(X_train, y_train)\n",
    "    print(grid.best_params_)\n",
    "    print(grid.best_score_)\n",
    "    return grid"
   ]
  },
  {
   "cell_type": "code",
   "execution_count": 27,
   "metadata": {},
   "outputs": [
    {
     "name": "stdout",
     "output_type": "stream",
     "text": [
      "{'colsample_bytree': 0.8, 'gamma': None, 'learning_rate': 1, 'max_depth': None, 'max_leaves': None, 'n_estimators': 300, 'reg_lambda': 100, 'subsample': None}\n",
      "0.9486805565749405\n"
     ]
    }
   ],
   "source": [
    "model=train_model(X_train,y_train)"
   ]
  },
  {
   "cell_type": "code",
   "execution_count": 5,
   "metadata": {},
   "outputs": [
    {
     "name": "stdout",
     "output_type": "stream",
     "text": [
      "train rmse: 0.27991232567386604\n",
      "val rmse: 2.764372851687466\n",
      "test rmse: 2.117698753182378\n",
      "\n",
      "train si: 0.0256953481150257\n",
      "val si: 0.23106815354477142\n",
      "test si: 0.2063007117679637\n",
      "\n",
      "train r2: 0.9992514626836105\n",
      "val r2: 0.9424606564793905\n",
      "test r2: 0.9642225043575966\n",
      "\n",
      "train mape: 7.099584385786443\n",
      "val mape: 13.576284776472622\n",
      "test mape: 86.40003468867576\n"
     ]
    }
   ],
   "source": [
    "best_params={'colsample_bytree': 0.8, 'gamma': None, 'learning_rate': 1, 'max_depth': None, 'max_leaves': None, 'n_estimators': 300, 'reg_lambda': 100, 'subsample': None}\n",
    "reg=XGBRegressor(**best_params,random_state=0,n_jobs=2)\n",
    "partsMetrics(df,reg)"
   ]
  },
  {
   "cell_type": "code",
   "execution_count": 6,
   "metadata": {},
   "outputs": [
    {
     "name": "stdout",
     "output_type": "stream",
     "text": [
      "all rmse: 0.3412033349494472\n",
      "all si: 0.030954571267694343\n",
      "all r2: 0.9989609369569503\n",
      "all mape: 10.114017700843801\n"
     ]
    }
   ],
   "source": [
    "allMetrics(df,reg)"
   ]
  }
 ],
 "metadata": {
  "kernelspec": {
   "display_name": ".venv",
   "language": "python",
   "name": "python3"
  },
  "language_info": {
   "codemirror_mode": {
    "name": "ipython",
    "version": 3
   },
   "file_extension": ".py",
   "mimetype": "text/x-python",
   "name": "python",
   "nbconvert_exporter": "python",
   "pygments_lexer": "ipython3",
   "version": "3.11.0"
  },
  "orig_nbformat": 4
 },
 "nbformat": 4,
 "nbformat_minor": 2
}
