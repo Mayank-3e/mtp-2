{
 "cells": [
  {
   "cell_type": "code",
   "execution_count": null,
   "metadata": {},
   "outputs": [],
   "source": [
    "import pandas as pd\n",
    "import numpy as np\n",
    "from sklearn.metrics import r2_score,make_scorer\n",
    "from sklearn.preprocessing import StandardScaler,PolynomialFeatures\n",
    "from sklearn.linear_model import LinearRegression\n",
    "from sklearn.model_selection import train_test_split,ParameterGrid,KFold,cross_val_score\n",
    "from metrics import partsMetrics,allMetrics"
   ]
  },
  {
   "cell_type": "code",
   "execution_count": 2,
   "metadata": {},
   "outputs": [
    {
     "name": "stdout",
     "output_type": "stream",
     "text": [
      "Data shape: (467, 7)\n"
     ]
    }
   ],
   "source": [
    "df=pd.read_csv('processed.csv')\n",
    "print('Data shape:',df.shape)"
   ]
  },
  {
   "cell_type": "code",
   "execution_count": 3,
   "metadata": {},
   "outputs": [
    {
     "name": "stdout",
     "output_type": "stream",
     "text": [
      "(467, 6)\n",
      "(467,)\n"
     ]
    }
   ],
   "source": [
    "X=df.iloc[:,:-1]\n",
    "y=df.iloc[:,-1]\n",
    "print(X.shape)\n",
    "print(y.shape)"
   ]
  },
  {
   "cell_type": "code",
   "execution_count": 32,
   "metadata": {},
   "outputs": [
    {
     "name": "stdout",
     "output_type": "stream",
     "text": [
      "0.6247290821009486\n",
      "{'degree': 5, 'include_bias': False, 'interaction_only': True}\n"
     ]
    }
   ],
   "source": [
    "X_train, X_test, y_train, y_test = train_test_split(X, y, test_size=0.1, random_state=0)\n",
    "param_grid = {\n",
    "    'degree': range(2,11),\n",
    "    'interaction_only': [True, False],\n",
    "    'include_bias': [True, False]\n",
    "}\n",
    "best_params={}\n",
    "best_r2=-1e9\n",
    "\n",
    "for params in ParameterGrid(param_grid):\n",
    "    poly_features = PolynomialFeatures(**params)\n",
    "    X_train_poly = poly_features.fit_transform(X_train)\n",
    "    X_train_poly = StandardScaler().fit_transform(X_train_poly)\n",
    "    reg=LinearRegression()\n",
    "    kf = KFold(n_splits=5, shuffle=True, random_state=0)\n",
    "    scores = cross_val_score(reg, X_train_poly, y_train, cv=kf, scoring=make_scorer(r2_score))\n",
    "    avg_r2=np.mean(scores)\n",
    "    if(avg_r2<1 and avg_r2>0 and avg_r2>best_r2):\n",
    "        best_r2=avg_r2\n",
    "        best_params=params\n",
    "\n",
    "print(best_r2)\n",
    "print(best_params)"
   ]
  },
  {
   "cell_type": "code",
   "execution_count": 4,
   "metadata": {},
   "outputs": [
    {
     "name": "stdout",
     "output_type": "stream",
     "text": [
      "train rmse: 4.248262177722176\n",
      "val rmse: 5.733036969822269\n",
      "test rmse: 6.282212641682788\n",
      "\n",
      "train si: 0.3899813103180552\n",
      "val si: 0.4792125874091435\n",
      "test si: 0.6119968373732352\n",
      "\n",
      "train r2: 0.8275782563875735\n",
      "val r2: 0.7525194064645571\n",
      "test r2: 0.6851477215402815\n",
      "\n",
      "train mape: 214.75651052265675\n",
      "val mape: 82.73803294289864\n",
      "test mape: 135.6418109813557\n"
     ]
    }
   ],
   "source": [
    "best_params={'degree': 5, 'include_bias': False, 'interaction_only': True}\n",
    "poly_features = PolynomialFeatures(**best_params)\n",
    "reg=LinearRegression()\n",
    "partsMetrics(df,reg,poly_features)"
   ]
  },
  {
   "cell_type": "code",
   "execution_count": 5,
   "metadata": {},
   "outputs": [
    {
     "name": "stdout",
     "output_type": "stream",
     "text": [
      "all rmse: 4.602986226061733\n",
      "all si: 0.41759106838728216\n",
      "all r2: 0.8108986130151101\n",
      "all mape: 206.34406529775674\n"
     ]
    }
   ],
   "source": [
    "allMetrics(df,reg,poly_features)"
   ]
  }
 ],
 "metadata": {
  "kernelspec": {
   "display_name": ".venv",
   "language": "python",
   "name": "python3"
  },
  "language_info": {
   "codemirror_mode": {
    "name": "ipython",
    "version": 3
   },
   "file_extension": ".py",
   "mimetype": "text/x-python",
   "name": "python",
   "nbconvert_exporter": "python",
   "pygments_lexer": "ipython3",
   "version": "3.11.0"
  },
  "orig_nbformat": 4
 },
 "nbformat": 4,
 "nbformat_minor": 2
}
