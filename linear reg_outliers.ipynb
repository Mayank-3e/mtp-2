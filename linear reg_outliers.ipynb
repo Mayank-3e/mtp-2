{
 "cells": [
  {
   "cell_type": "code",
   "execution_count": null,
   "metadata": {},
   "outputs": [],
   "source": [
    "import pandas as pd\n",
    "from sklearn.linear_model import LinearRegression\n",
    "from metrics import partsMetrics,allMetrics"
   ]
  },
  {
   "cell_type": "code",
   "execution_count": 2,
   "metadata": {},
   "outputs": [
    {
     "name": "stdout",
     "output_type": "stream",
     "text": [
      "Data shape: (519, 7)\n"
     ]
    }
   ],
   "source": [
    "df=pd.read_csv('processed_outliers.csv')\n",
    "print('Data shape:',df.shape)"
   ]
  },
  {
   "cell_type": "code",
   "execution_count": 3,
   "metadata": {},
   "outputs": [
    {
     "name": "stdout",
     "output_type": "stream",
     "text": [
      "(519, 6)\n",
      "(519,)\n"
     ]
    }
   ],
   "source": [
    "X=df.iloc[:,:-1]\n",
    "y=df.iloc[:,-1]\n",
    "print(X.shape)\n",
    "print(y.shape)"
   ]
  },
  {
   "cell_type": "code",
   "execution_count": 4,
   "metadata": {},
   "outputs": [
    {
     "name": "stdout",
     "output_type": "stream",
     "text": [
      "train rmse: 9.442110293971476\n",
      "val rmse: 9.956806730780178\n",
      "test rmse: 11.166308133605568\n",
      "\n",
      "train si: 0.7698398870750837\n",
      "val si: 0.8123772525764575\n",
      "test si: 0.8023879264112339\n",
      "\n",
      "train r2: 0.3996561777582075\n",
      "val r2: 0.4033191635750605\n",
      "test r2: 0.3919635423256679\n",
      "\n",
      "train mape: 278.65471149850447\n",
      "val mape: 537.2314219681368\n",
      "test mape: 447.1538059231542\n"
     ]
    }
   ],
   "source": [
    "reg = LinearRegression()\n",
    "partsMetrics(df,reg)"
   ]
  },
  {
   "cell_type": "code",
   "execution_count": 6,
   "metadata": {},
   "outputs": [
    {
     "name": "stdout",
     "output_type": "stream",
     "text": [
      "all rmse: 9.705136445309524\n",
      "all si: 0.7808514881466926\n",
      "all r2: 0.4023994564634419\n",
      "all mape: 349.2926930219164\n"
     ]
    }
   ],
   "source": [
    "allMetrics(df,reg)"
   ]
  }
 ],
 "metadata": {
  "kernelspec": {
   "display_name": ".venv",
   "language": "python",
   "name": "python3"
  },
  "language_info": {
   "codemirror_mode": {
    "name": "ipython",
    "version": 3
   },
   "file_extension": ".py",
   "mimetype": "text/x-python",
   "name": "python",
   "nbconvert_exporter": "python",
   "pygments_lexer": "ipython3",
   "version": "3.11.0"
  },
  "orig_nbformat": 4
 },
 "nbformat": 4,
 "nbformat_minor": 2
}
