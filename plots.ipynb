{
 "cells": [
  {
   "cell_type": "code",
   "execution_count": null,
   "metadata": {},
   "outputs": [],
   "source": [
    "import pandas as pd\n",
    "import seaborn as sns\n",
    "import matplotlib.pyplot as plt\n",
    "from metrics import train_val_test_split"
   ]
  },
  {
   "cell_type": "markdown",
   "metadata": {},
   "source": [
    "Plot SI"
   ]
  },
  {
   "cell_type": "code",
   "execution_count": null,
   "metadata": {},
   "outputs": [],
   "source": [
    "# Scenario 1\n",
    "si={\n",
    "    'Train':{},\n",
    "    'Test':{},\n",
    "    'Valid':{},\n",
    "    'All':{}\n",
    "}\n",
    "df=pd.read_excel('metrics.xlsx',sheet_name='SI1')\n",
    "for col,val in df.iloc[4,2:].items(): si['Train'][col]=val\n",
    "for col,val in df.iloc[5,2:].items(): si['Valid'][col]=val\n",
    "for col,val in df.iloc[6,2:].items(): si['Test'][col]=val\n",
    "for col,val in df.iloc[7,2:].items(): si['All'][col]=val\n",
    "\n",
    "plt.figure(dpi=200)\n",
    "pd.DataFrame(si).plot(kind='bar',rot=0,figsize=(15,5),\n",
    "                      title='The SI values for developed models (Scenario 1)')"
   ]
  },
  {
   "cell_type": "code",
   "execution_count": null,
   "metadata": {},
   "outputs": [],
   "source": [
    "# Scenario 2\n",
    "si={\n",
    "    'Train':{},\n",
    "    'Test':{},\n",
    "    'Valid':{},\n",
    "    'All':{}\n",
    "}\n",
    "df=pd.read_excel('metrics.xlsx',sheet_name='SI2')\n",
    "for col,val in df.iloc[4,2:].items(): si['Train'][col]=val\n",
    "for col,val in df.iloc[5,2:].items(): si['Valid'][col]=val\n",
    "for col,val in df.iloc[6,2:].items(): si['Test'][col]=val\n",
    "for col,val in df.iloc[7,2:].items(): si['All'][col]=val\n",
    "\n",
    "plt.figure(dpi=200)\n",
    "pd.DataFrame(si).plot(kind='bar',rot=0,figsize=(15,5),\n",
    "                      title='The SI values for developed models (Scenario 2)')"
   ]
  },
  {
   "cell_type": "markdown",
   "metadata": {},
   "source": [
    "OBJ"
   ]
  },
  {
   "cell_type": "code",
   "execution_count": null,
   "metadata": {},
   "outputs": [],
   "source": [
    "df=pd.read_csv('processed_outliers.csv')\n",
    "X=df.iloc[:,:-1]\n",
    "y=df.iloc[:,-1]\n",
    "X_train, X_val, X_test, y_train, y_val, y_test = train_val_test_split(X,y)\n",
    "n_all=len(df)\n",
    "n_tr=len(X_train)\n",
    "n_val=len(X_val)\n",
    "n_tst=len(X_test)\n",
    "met=pd.read_excel('metrics.xlsx',sheet_name='SI2')"
   ]
  },
  {
   "cell_type": "code",
   "execution_count": null,
   "metadata": {},
   "outputs": [],
   "source": [
    "obj={}\n",
    "for col,val in met.iloc[:,2:].items():\n",
    "    rmse_tr,rmse_val,rmse_tst,rmse_all=val[0],val[1],val[2],val[3]\n",
    "    si_tr,si_val,si_tst,si_all=val[4],val[5],val[6],val[7]\n",
    "    mape_tr,mape_val,mape_tst,mape_all=val[8],val[9],val[10],val[11]\n",
    "    r2_tr,r2_val,r2_tst,r2_all=val[12],val[13],val[14],val[15]\n",
    "    obj[col]=(n_tr*(rmse_tr+si_tr+mape_tr)/r2_tr**2 +\n",
    "              n_val*(rmse_val+si_val+mape_val)/r2_val**2 +\n",
    "              n_tst*(rmse_tst+si_tst+mape_tst)/r2_tst**2\n",
    "              )/n_all\n",
    "\n",
    "plt.figure(dpi=200)\n",
    "plt.title('The OBJ values for developed models (Scenario 2)')\n",
    "ax=sns.barplot(obj)\n",
    "ax.bar_label(ax.containers[0], fontsize=10,label_type='edge');\n",
    "plt.annotate(f'{obj[\"LR\"]:0.2f}',xy=(0,96),ha='center',va='top')\n",
    "plt.annotate(f'{obj[\"PR\"]:0.2f}',xy=(1,96),ha='center',va='top')\n",
    "ax.set_ylim(top=100);"
   ]
  }
 ],
 "metadata": {
  "kernelspec": {
   "display_name": ".venv",
   "language": "python",
   "name": "python3"
  },
  "language_info": {
   "codemirror_mode": {
    "name": "ipython",
    "version": 3
   },
   "file_extension": ".py",
   "mimetype": "text/x-python",
   "name": "python",
   "nbconvert_exporter": "python",
   "pygments_lexer": "ipython3",
   "version": "3.11.0"
  }
 },
 "nbformat": 4,
 "nbformat_minor": 2
}
