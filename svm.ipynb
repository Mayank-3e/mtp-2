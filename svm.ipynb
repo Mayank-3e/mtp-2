{
 "cells": [
  {
   "cell_type": "code",
   "execution_count": null,
   "metadata": {},
   "outputs": [],
   "source": [
    "import numpy as np\n",
    "import pandas as pd\n",
    "from sklearn.metrics import r2_score,make_scorer\n",
    "from sklearn.preprocessing import StandardScaler\n",
    "from sklearn.model_selection import train_test_split,GridSearchCV\n",
    "from sklearn.svm import SVR\n",
    "from metrics import partsMetrics,allMetrics"
   ]
  },
  {
   "cell_type": "code",
   "execution_count": 2,
   "metadata": {},
   "outputs": [
    {
     "name": "stdout",
     "output_type": "stream",
     "text": [
      "Data shape: (467, 7)\n"
     ]
    }
   ],
   "source": [
    "df=pd.read_csv('processed.csv')\n",
    "print('Data shape:',df.shape)"
   ]
  },
  {
   "cell_type": "code",
   "execution_count": 3,
   "metadata": {},
   "outputs": [
    {
     "name": "stdout",
     "output_type": "stream",
     "text": [
      "(467, 6)\n",
      "(467,)\n"
     ]
    }
   ],
   "source": [
    "X=df.iloc[:,:-1].values\n",
    "y=df.iloc[:,-1].values\n",
    "print(X.shape)\n",
    "print(y.shape)"
   ]
  },
  {
   "cell_type": "code",
   "execution_count": 4,
   "metadata": {},
   "outputs": [],
   "source": [
    "C_values=list(np.logspace(-3,3,7)) + [200]\n",
    "gamma_values=list(np.logspace(-3,3,7)) + ['scale','auto']\n",
    "param_grid=[\n",
    "    {\n",
    "        'kernel': ['rbf','sigmoid','linear'],\n",
    "        'C': C_values,\n",
    "        'gamma': gamma_values,\n",
    "        'epsilon': [1e-2,.1,1],\n",
    "        'shrinking': [True,False]\n",
    "    },\n",
    "    {\n",
    "        'kernel': ['poly'],\n",
    "        'C': C_values,\n",
    "        # 'gamma': gamma_values,\n",
    "        'degree': [3,4,5],\n",
    "        'epsilon': [1e-2,.1,1],\n",
    "        'shrinking': [True,False]\n",
    "    }\n",
    "]\n",
    "\n",
    "X_train, X_test, y_train, y_test = train_test_split(X, y, test_size=0.1, random_state=0)\n",
    "sc = StandardScaler()\n",
    "X_train = sc.fit_transform(X_train)\n",
    "X_test = sc.transform(X_test)\n",
    "\n",
    "def train_model(X_train,y_train):\n",
    "    reg = SVR()\n",
    "    grid=GridSearchCV(reg,param_grid,cv=5,scoring=make_scorer(r2_score),n_jobs=2)\n",
    "    grid.fit(X_train, y_train)\n",
    "    print(grid.best_params_)\n",
    "    print(grid.best_score_)\n",
    "    return grid"
   ]
  },
  {
   "cell_type": "code",
   "execution_count": 74,
   "metadata": {},
   "outputs": [
    {
     "name": "stdout",
     "output_type": "stream",
     "text": [
      "{'C': 200, 'epsilon': 1, 'gamma': 'auto', 'kernel': 'rbf', 'shrinking': True}\n",
      "0.8460150042405947\n"
     ]
    }
   ],
   "source": [
    "model=train_model(X_train,y_train)"
   ]
  },
  {
   "cell_type": "code",
   "execution_count": 5,
   "metadata": {},
   "outputs": [
    {
     "name": "stdout",
     "output_type": "stream",
     "text": [
      "train rmse: 2.0960124407574185\n",
      "val rmse: 4.453297849827749\n",
      "test rmse: 4.816731132435866\n",
      "\n",
      "train si: 0.1924094238759525\n",
      "val si: 0.372241866981313\n",
      "test si: 0.46923343536145107\n",
      "\n",
      "train r2: 0.9580282456216203\n",
      "val r2: 0.8506740968111035\n",
      "test r2: 0.8149085381759513\n",
      "\n",
      "train mape: 76.78495169367272\n",
      "val mape: 61.97672241646834\n",
      "test mape: 68.30770958002063\n"
     ]
    }
   ],
   "source": [
    "best_params={'C': 200, 'epsilon': 1, 'gamma': 'auto', 'kernel': 'rbf', 'shrinking': True}\n",
    "reg=SVR(**best_params)\n",
    "partsMetrics(df,reg)"
   ]
  },
  {
   "cell_type": "code",
   "execution_count": 6,
   "metadata": {},
   "outputs": [
    {
     "name": "stdout",
     "output_type": "stream",
     "text": [
      "all rmse: 2.3277083479264356\n",
      "all si: 0.2111738267651204\n",
      "all r2: 0.9516415366871102\n",
      "all mape: 62.1320726299999\n"
     ]
    }
   ],
   "source": [
    "allMetrics(df,reg)"
   ]
  }
 ],
 "metadata": {
  "kernelspec": {
   "display_name": ".venv",
   "language": "python",
   "name": "python3"
  },
  "language_info": {
   "codemirror_mode": {
    "name": "ipython",
    "version": 3
   },
   "file_extension": ".py",
   "mimetype": "text/x-python",
   "name": "python",
   "nbconvert_exporter": "python",
   "pygments_lexer": "ipython3",
   "version": "3.11.0"
  },
  "orig_nbformat": 4
 },
 "nbformat": 4,
 "nbformat_minor": 2
}
