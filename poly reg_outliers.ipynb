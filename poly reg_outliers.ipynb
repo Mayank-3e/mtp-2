{
 "cells": [
  {
   "cell_type": "code",
   "execution_count": null,
   "metadata": {},
   "outputs": [],
   "source": [
    "import pandas as pd\n",
    "import numpy as np\n",
    "from sklearn.metrics import r2_score,make_scorer\n",
    "from sklearn.preprocessing import StandardScaler,PolynomialFeatures\n",
    "from sklearn.linear_model import LinearRegression\n",
    "from sklearn.model_selection import train_test_split,ParameterGrid,KFold,cross_val_score\n",
    "from metrics import partsMetrics,allMetrics"
   ]
  },
  {
   "cell_type": "code",
   "execution_count": 2,
   "metadata": {},
   "outputs": [
    {
     "name": "stdout",
     "output_type": "stream",
     "text": [
      "Data shape: (519, 7)\n"
     ]
    }
   ],
   "source": [
    "df=pd.read_csv('processed_outliers.csv')\n",
    "print('Data shape:',df.shape)"
   ]
  },
  {
   "cell_type": "code",
   "execution_count": 3,
   "metadata": {},
   "outputs": [
    {
     "name": "stdout",
     "output_type": "stream",
     "text": [
      "(519, 6)\n",
      "(519,)\n"
     ]
    }
   ],
   "source": [
    "X=df.iloc[:,:-1]\n",
    "y=df.iloc[:,-1]\n",
    "print(X.shape)\n",
    "print(y.shape)"
   ]
  },
  {
   "cell_type": "code",
   "execution_count": 4,
   "metadata": {},
   "outputs": [
    {
     "name": "stdout",
     "output_type": "stream",
     "text": [
      "0.7192288021787714\n",
      "{'degree': 3, 'include_bias': False, 'interaction_only': False}\n"
     ]
    }
   ],
   "source": [
    "X_train, X_test, y_train, y_test = train_test_split(X, y, test_size=0.1, random_state=0)\n",
    "param_grid = {\n",
    "    'degree': range(2,11),\n",
    "    'interaction_only': [True, False],\n",
    "    'include_bias': [True, False]\n",
    "}\n",
    "best_params={}\n",
    "best_r2=-1e9\n",
    "\n",
    "for params in ParameterGrid(param_grid):\n",
    "    poly_features = PolynomialFeatures(**params)\n",
    "    X_train_poly = poly_features.fit_transform(X_train)\n",
    "    X_train_poly = StandardScaler().fit_transform(X_train_poly)\n",
    "    reg=LinearRegression()\n",
    "    kf = KFold(n_splits=5, shuffle=True, random_state=0)\n",
    "    scores = cross_val_score(reg, X_train_poly, y_train, cv=kf, scoring=make_scorer(r2_score))\n",
    "    avg_r2=np.mean(scores)\n",
    "    if(avg_r2<1 and avg_r2>0 and avg_r2>best_r2):\n",
    "        best_r2=avg_r2\n",
    "        best_params=params\n",
    "\n",
    "print(best_r2)\n",
    "print(best_params)"
   ]
  },
  {
   "cell_type": "code",
   "execution_count": 7,
   "metadata": {},
   "outputs": [
    {
     "name": "stdout",
     "output_type": "stream",
     "text": [
      "train rmse: 4.258575850107735\n",
      "val rmse: 6.895506182189094\n",
      "test rmse: 5.478080076296312\n",
      "\n",
      "train si: 0.3472127998378496\n",
      "val si: 0.5626053130160358\n",
      "test si: 0.39364356245064347\n",
      "\n",
      "train r2: 0.8778789073178123\n",
      "val r2: 0.7138233208379217\n",
      "test r2: 0.8536586164017208\n",
      "\n",
      "train mape: 155.73584818555568\n",
      "val mape: 283.64036650031636\n",
      "test mape: 337.33810500664214\n"
     ]
    }
   ],
   "source": [
    "best_params={'degree': 3, 'include_bias': False, 'interaction_only': False}\n",
    "poly_features = PolynomialFeatures(**best_params)\n",
    "reg=LinearRegression()\n",
    "partsMetrics(df,reg,poly_features)"
   ]
  },
  {
   "cell_type": "code",
   "execution_count": 8,
   "metadata": {},
   "outputs": [
    {
     "name": "stdout",
     "output_type": "stream",
     "text": [
      "all rmse: 4.412874250490375\n",
      "all si: 0.35504904489673395\n",
      "all r2: 0.8764477107717354\n",
      "all mape: 174.139605876038\n"
     ]
    }
   ],
   "source": [
    "allMetrics(df,reg,poly_features)"
   ]
  }
 ],
 "metadata": {
  "kernelspec": {
   "display_name": ".venv",
   "language": "python",
   "name": "python3"
  },
  "language_info": {
   "codemirror_mode": {
    "name": "ipython",
    "version": 3
   },
   "file_extension": ".py",
   "mimetype": "text/x-python",
   "name": "python",
   "nbconvert_exporter": "python",
   "pygments_lexer": "ipython3",
   "version": "3.11.0"
  },
  "orig_nbformat": 4
 },
 "nbformat": 4,
 "nbformat_minor": 2
}
