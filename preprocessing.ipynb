{
 "cells": [
  {
   "cell_type": "code",
   "execution_count": null,
   "metadata": {},
   "outputs": [],
   "source": [
    "import numpy as np\n",
    "import pandas as pd\n",
    "import matplotlib.pyplot as plt\n",
    "import seaborn as sns\n",
    "import scipy.stats as stat\n",
    "from sklearn.ensemble import IsolationForest"
   ]
  },
  {
   "cell_type": "markdown",
   "metadata": {},
   "source": [
    "Read data"
   ]
  },
  {
   "cell_type": "code",
   "execution_count": null,
   "metadata": {},
   "outputs": [],
   "source": [
    "df=pd.read_excel('data.xlsx')\n",
    "df"
   ]
  },
  {
   "cell_type": "code",
   "execution_count": null,
   "metadata": {},
   "outputs": [],
   "source": [
    "print('Original data shape:',df.shape)\n",
    "print('Duplicate rows:',df.duplicated().sum())\n",
    "df=df[~df.duplicated()]\n",
    "print('Shape after removing duplicates:',df.shape)"
   ]
  },
  {
   "cell_type": "markdown",
   "metadata": {},
   "source": [
    "Missing values"
   ]
  },
  {
   "cell_type": "code",
   "execution_count": null,
   "metadata": {},
   "outputs": [],
   "source": [
    "len(df)-df.count()"
   ]
  },
  {
   "cell_type": "code",
   "execution_count": null,
   "metadata": {},
   "outputs": [],
   "source": [
    "list(enumerate(df.columns))"
   ]
  },
  {
   "cell_type": "markdown",
   "metadata": {},
   "source": [
    "Discrete Features"
   ]
  },
  {
   "cell_type": "code",
   "execution_count": null,
   "metadata": {},
   "outputs": [],
   "source": [
    "discrete_cols=[col for col in df.columns if df[col].unique().size<15]\n",
    "continuous_cols=[col for col in df.columns if col not in discrete_cols]\n",
    "discrete_cols"
   ]
  },
  {
   "cell_type": "markdown",
   "metadata": {},
   "source": [
    "Descriptive Stats"
   ]
  },
  {
   "cell_type": "code",
   "execution_count": null,
   "metadata": {},
   "outputs": [],
   "source": [
    "df.describe().T"
   ]
  },
  {
   "cell_type": "code",
   "execution_count": null,
   "metadata": {},
   "outputs": [],
   "source": [
    "df[continuous_cols].describe().T"
   ]
  },
  {
   "cell_type": "markdown",
   "metadata": {},
   "source": [
    "Correlation Heatmap"
   ]
  },
  {
   "cell_type": "code",
   "execution_count": null,
   "metadata": {},
   "outputs": [],
   "source": [
    "# plt.figure(dpi=200)\n",
    "# sns.heatmap(df[continuous_cols].corr(),cmap='coolwarm',linewidths=2,annot=True)"
   ]
  },
  {
   "cell_type": "markdown",
   "metadata": {},
   "source": [
    "Pair plots"
   ]
  },
  {
   "cell_type": "code",
   "execution_count": null,
   "metadata": {},
   "outputs": [],
   "source": [
    "# plt.figure(dpi=200)\n",
    "# sns.pairplot(df[continuous_cols],corner=True,plot_kws={'alpha': 0.3})"
   ]
  },
  {
   "cell_type": "markdown",
   "metadata": {},
   "source": [
    "Data Distribution Plots"
   ]
  },
  {
   "cell_type": "code",
   "execution_count": null,
   "metadata": {},
   "outputs": [],
   "source": [
    "# for col in continuous_cols: sns.displot(df[col],kde=True)"
   ]
  },
  {
   "cell_type": "markdown",
   "metadata": {},
   "source": [
    "Box plots"
   ]
  },
  {
   "cell_type": "code",
   "execution_count": null,
   "metadata": {},
   "outputs": [],
   "source": [
    "# for col in continuous_cols:\n",
    "#     plt.title(col)\n",
    "#     sns.boxplot(df[col])\n",
    "#     plt.show()"
   ]
  },
  {
   "cell_type": "markdown",
   "metadata": {},
   "source": [
    "Log transformation"
   ]
  },
  {
   "cell_type": "code",
   "execution_count": null,
   "metadata": {},
   "outputs": [],
   "source": [
    "# for col in continuous_cols:\n",
    "#     if 0 in df[col].unique(): continue\n",
    "#     series=pd.Series(np.log(df[col]))\n",
    "#     # plt.figure(figsize=(10,10))\n",
    "#     plt.tick_params(labelcolor='none', top=False, bottom=False, left=False, right=False)\n",
    "#     plt.title(col)\n",
    "#     ax1=plt.subplot(1,2,1)\n",
    "#     series.hist()\n",
    "\n",
    "#     ax2=plt.subplot(1,2,2)\n",
    "#     stat.probplot(series,plot=plt,rvalue=True)\n",
    "#     plt.show()"
   ]
  },
  {
   "cell_type": "markdown",
   "metadata": {},
   "source": [
    "Exponential transformation"
   ]
  },
  {
   "cell_type": "code",
   "execution_count": null,
   "metadata": {},
   "outputs": [],
   "source": [
    "# for col in continuous_cols:\n",
    "#     series=pd.Series(df[col]**2)\n",
    "#     plt.tick_params(labelcolor='none', top=False, bottom=False, left=False, right=False)\n",
    "#     plt.title(col)\n",
    "#     plt.subplot(1,2,1)\n",
    "#     series.hist()\n",
    "\n",
    "#     plt.subplot(1,2,2)\n",
    "#     stat.probplot(series,plot=plt,rvalue=True)\n",
    "#     plt.show()"
   ]
  },
  {
   "cell_type": "markdown",
   "metadata": {},
   "source": [
    "Inverse transformation"
   ]
  },
  {
   "cell_type": "code",
   "execution_count": null,
   "metadata": {},
   "outputs": [],
   "source": [
    "# for col in continuous_cols:\n",
    "#     if 0 in df[col].unique(): continue\n",
    "#     series=pd.Series(1/df[col])\n",
    "#     plt.tick_params(labelcolor='none', top=False, bottom=False, left=False, right=False)\n",
    "#     plt.title(col)\n",
    "#     plt.subplot(1,2,1)\n",
    "#     series.hist()\n",
    "\n",
    "#     plt.subplot(1,2,2)\n",
    "#     stat.probplot(series,plot=plt,rvalue=True)\n",
    "#     plt.show()"
   ]
  },
  {
   "cell_type": "markdown",
   "metadata": {},
   "source": [
    "Square root transformation"
   ]
  },
  {
   "cell_type": "code",
   "execution_count": null,
   "metadata": {},
   "outputs": [],
   "source": [
    "# for col in continuous_cols:\n",
    "#     series=pd.Series(df[col]**.5)\n",
    "#     plt.tick_params(labelcolor='none', top=False, bottom=False, left=False, right=False)\n",
    "#     plt.title(col)\n",
    "#     plt.subplot(1,2,1)\n",
    "#     series.hist()\n",
    "\n",
    "#     plt.subplot(1,2,2)\n",
    "#     stat.probplot(series,plot=plt,rvalue=True)\n",
    "#     plt.show()"
   ]
  },
  {
   "cell_type": "markdown",
   "metadata": {},
   "source": [
    "Save processed data"
   ]
  },
  {
   "cell_type": "code",
   "execution_count": null,
   "metadata": {},
   "outputs": [],
   "source": [
    "df.to_csv('processed_outliers.csv',index=False)"
   ]
  },
  {
   "cell_type": "markdown",
   "metadata": {},
   "source": [
    "Outlier detection"
   ]
  },
  {
   "cell_type": "code",
   "execution_count": 36,
   "metadata": {},
   "outputs": [
    {
     "name": "stdout",
     "output_type": "stream",
     "text": [
      "Outliers: 52\n",
      "Final shape: (467, 7)\n"
     ]
    }
   ],
   "source": [
    "# https://youtu.be/O9VvmWj-JAk?si=21pVYN76owRisS1b\n",
    "anomalies=IsolationForest(contamination=0.1,random_state=0).fit_predict(df)\n",
    "print('Outliers:',(anomalies==-1).sum())\n",
    "df=df[anomalies!=-1]\n",
    "print('Final shape:',df.shape)\n",
    "df.to_csv('processed.csv',index=False)"
   ]
  }
 ],
 "metadata": {
  "kernelspec": {
   "display_name": ".venv",
   "language": "python",
   "name": "python3"
  },
  "language_info": {
   "codemirror_mode": {
    "name": "ipython",
    "version": 3
   },
   "file_extension": ".py",
   "mimetype": "text/x-python",
   "name": "python",
   "nbconvert_exporter": "python",
   "pygments_lexer": "ipython3",
   "version": "3.11.0"
  },
  "orig_nbformat": 4
 },
 "nbformat": 4,
 "nbformat_minor": 2
}
