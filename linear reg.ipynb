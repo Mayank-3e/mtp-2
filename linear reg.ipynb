{
 "cells": [
  {
   "cell_type": "code",
   "execution_count": 9,
   "metadata": {},
   "outputs": [],
   "source": [
    "import pandas as pd\n",
    "from sklearn.linear_model import LinearRegression\n",
    "from metrics import partsMetrics,allMetrics"
   ]
  },
  {
   "cell_type": "code",
   "execution_count": 10,
   "metadata": {},
   "outputs": [
    {
     "name": "stdout",
     "output_type": "stream",
     "text": [
      "Data shape: (467, 7)\n"
     ]
    }
   ],
   "source": [
    "df=pd.read_csv('processed.csv')\n",
    "print('Data shape:',df.shape)"
   ]
  },
  {
   "cell_type": "code",
   "execution_count": 11,
   "metadata": {},
   "outputs": [
    {
     "name": "stdout",
     "output_type": "stream",
     "text": [
      "train rmse: 7.887981487330604\n",
      "val rmse: 8.56007001165057\n",
      "test rmse: 9.908107025769516\n",
      "\n",
      "train si: 0.7240996971244187\n",
      "val si: 0.7155183753879851\n",
      "test si: 0.9652220499340198\n",
      "\n",
      "train r2: 0.4055693752956172\n",
      "val r2: 0.4482703829611584\n",
      "test r2: 0.21681753754466404\n",
      "\n",
      "train mape: 363.80900721276095\n",
      "val mape: 90.20120858368357\n",
      "test mape: 144.68751914304727\n"
     ]
    }
   ],
   "source": [
    "reg = LinearRegression()\n",
    "partsMetrics(df,reg)"
   ]
  },
  {
   "cell_type": "code",
   "execution_count": 12,
   "metadata": {},
   "outputs": [
    {
     "name": "stdout",
     "output_type": "stream",
     "text": [
      "all rmse: 8.200308660239187\n",
      "all si: 0.7439465352179914\n",
      "all r2: 0.39982795515962344\n",
      "all mape: 311.54295735778214\n"
     ]
    }
   ],
   "source": [
    "allMetrics(df,reg)"
   ]
  }
 ],
 "metadata": {
  "kernelspec": {
   "display_name": ".venv",
   "language": "python",
   "name": "python3"
  },
  "language_info": {
   "codemirror_mode": {
    "name": "ipython",
    "version": 3
   },
   "file_extension": ".py",
   "mimetype": "text/x-python",
   "name": "python",
   "nbconvert_exporter": "python",
   "pygments_lexer": "ipython3",
   "version": "3.11.0"
  },
  "orig_nbformat": 4
 },
 "nbformat": 4,
 "nbformat_minor": 2
}
